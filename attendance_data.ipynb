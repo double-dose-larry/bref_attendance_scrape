{
 "cells": [
  {
   "cell_type": "code",
   "execution_count": 23,
   "metadata": {},
   "outputs": [],
   "source": [
    "import pandas as pd\n",
    "from bs4 import BeautifulSoup\n",
    "import requests\n",
    "\n",
    "# get\n",
    "soup = BeautifulSoup(requests.get(\"https://www.baseball-reference.com/teams/\").content)\n",
    "franchises = [td.find(\"a\").get(\"href\").replace('/teams/', '').replace('/','') for td in soup.find_all(\"td\",attrs={\"data-stat\":\"franchise_name\"}) ]\n",
    "\n",
    "\n",
    "# wtf Angels, pick a name already\n",
    "# account for franchise name changes\n",
    "franchises += [\"LAA\", \"MIA\", \"TBR\"]\n",
    "franchises.remove(\"ANA\")\n",
    "franchises.remove(\"FLA\")\n",
    "franchises.remove(\"TBD\")\n",
    "\n",
    "#"
   ]
  },
  {
   "cell_type": "code",
   "execution_count": 24,
   "metadata": {},
   "outputs": [],
   "source": [
    "def get_attendance_year_team(team, year):\n",
    "    # pull down data for team year\n",
    "    try:\n",
    "        df = pd.read_html(f\"https://widgets.sports-reference.com/wg.fcgi?css=1&site=br&url=%2Fteams%2F{team}%2F{year}-schedule-scores.shtml&div=div_team_schedule\")[0]\\\n",
    "            .query(\"Tm != 'Tm'\")\n",
    "        # get only the home games\n",
    "        df = df[df.iloc[:, 4] != '@']\n",
    "        df[\"year\"] = year\n",
    "        df[\"team\"] = team\n",
    "    except:\n",
    "        pass\n",
    "    return df"
   ]
  },
  {
   "cell_type": "code",
   "execution_count": 25,
   "metadata": {},
   "outputs": [],
   "source": [
    "# loop through franchises and years to compile data\n",
    "\n",
    "# change variables below to change year range\n",
    "start_yr = 2017\n",
    "end_yr = 2019"
   ]
  },
  {
   "cell_type": "code",
   "execution_count": 26,
   "metadata": {},
   "outputs": [
    {
     "name": "stdout",
     "output_type": "stream",
     "text": [
      "grabbing 2017 data for ARI\n",
      "grabbing 2018 data for ARI\n",
      "grabbing 2019 data for ARI\n",
      "grabbing 2017 data for ATL\n",
      "grabbing 2018 data for ATL\n",
      "grabbing 2019 data for ATL\n",
      "grabbing 2017 data for BAL\n",
      "grabbing 2018 data for BAL\n",
      "grabbing 2019 data for BAL\n",
      "grabbing 2017 data for BOS\n",
      "grabbing 2018 data for BOS\n",
      "grabbing 2019 data for BOS\n",
      "grabbing 2017 data for CHC\n",
      "grabbing 2018 data for CHC\n",
      "grabbing 2019 data for CHC\n",
      "grabbing 2017 data for CHW\n",
      "grabbing 2018 data for CHW\n",
      "grabbing 2019 data for CHW\n",
      "grabbing 2017 data for CIN\n",
      "grabbing 2018 data for CIN\n",
      "grabbing 2019 data for CIN\n",
      "grabbing 2017 data for CLE\n",
      "grabbing 2018 data for CLE\n",
      "grabbing 2019 data for CLE\n",
      "grabbing 2017 data for COL\n",
      "grabbing 2018 data for COL\n",
      "grabbing 2019 data for COL\n",
      "grabbing 2017 data for DET\n",
      "grabbing 2018 data for DET\n",
      "grabbing 2019 data for DET\n",
      "grabbing 2017 data for HOU\n",
      "grabbing 2018 data for HOU\n",
      "grabbing 2019 data for HOU\n",
      "grabbing 2017 data for KCR\n",
      "grabbing 2018 data for KCR\n",
      "grabbing 2019 data for KCR\n",
      "grabbing 2017 data for LAD\n",
      "grabbing 2018 data for LAD\n",
      "grabbing 2019 data for LAD\n",
      "grabbing 2017 data for MIL\n",
      "grabbing 2018 data for MIL\n",
      "grabbing 2019 data for MIL\n",
      "grabbing 2017 data for MIN\n",
      "grabbing 2018 data for MIN\n",
      "grabbing 2019 data for MIN\n",
      "grabbing 2017 data for NYM\n",
      "grabbing 2018 data for NYM\n",
      "grabbing 2019 data for NYM\n",
      "grabbing 2017 data for NYY\n",
      "grabbing 2018 data for NYY\n",
      "grabbing 2019 data for NYY\n",
      "grabbing 2017 data for OAK\n",
      "grabbing 2018 data for OAK\n",
      "grabbing 2019 data for OAK\n",
      "grabbing 2017 data for PHI\n",
      "grabbing 2018 data for PHI\n",
      "grabbing 2019 data for PHI\n",
      "grabbing 2017 data for PIT\n",
      "grabbing 2018 data for PIT\n",
      "grabbing 2019 data for PIT\n",
      "grabbing 2017 data for SDP\n",
      "grabbing 2018 data for SDP\n",
      "grabbing 2019 data for SDP\n",
      "grabbing 2017 data for SFG\n",
      "grabbing 2018 data for SFG\n",
      "grabbing 2019 data for SFG\n",
      "grabbing 2017 data for SEA\n",
      "grabbing 2018 data for SEA\n",
      "grabbing 2019 data for SEA\n",
      "grabbing 2017 data for STL\n",
      "grabbing 2018 data for STL\n",
      "grabbing 2019 data for STL\n",
      "grabbing 2017 data for TEX\n",
      "grabbing 2018 data for TEX\n",
      "grabbing 2019 data for TEX\n",
      "grabbing 2017 data for TOR\n",
      "grabbing 2018 data for TOR\n",
      "grabbing 2019 data for TOR\n",
      "grabbing 2017 data for WSN\n",
      "grabbing 2018 data for WSN\n",
      "grabbing 2019 data for WSN\n",
      "grabbing 2017 data for LAA\n",
      "grabbing 2018 data for LAA\n",
      "grabbing 2019 data for LAA\n",
      "grabbing 2017 data for MIA\n",
      "grabbing 2018 data for MIA\n",
      "grabbing 2019 data for MIA\n",
      "grabbing 2017 data for TBR\n",
      "grabbing 2018 data for TBR\n",
      "grabbing 2019 data for TBR\n"
     ]
    }
   ],
   "source": [
    "team_years = []\n",
    "for team in franchises:\n",
    "    for year in range(start_yr,end_yr+1):\n",
    "        print(f\"grabbing {year} data for {team}\")\n",
    "        team_years.append(get_attendance_year_team(team, year))"
   ]
  },
  {
   "cell_type": "code",
   "execution_count": 31,
   "metadata": {},
   "outputs": [],
   "source": [
    "# put all the data into one dataframe\n",
    "\n",
    "df = pd.concat(team_years)"
   ]
  },
  {
   "cell_type": "code",
   "execution_count": 36,
   "metadata": {},
   "outputs": [],
   "source": [
    "# drop unecessary columns\n",
    "df = df.drop([x for x in df.columns if 'Unnamed' in x], axis=1)"
   ]
  },
  {
   "cell_type": "code",
   "execution_count": 37,
   "metadata": {},
   "outputs": [],
   "source": [
    "df.to_csv(\"team_schedules_2017_2019.csv\", index=False)"
   ]
  },
  {
   "cell_type": "code",
   "execution_count": null,
   "metadata": {},
   "outputs": [],
   "source": []
  }
 ],
 "metadata": {
  "kernelspec": {
   "display_name": "Python 3",
   "language": "python",
   "name": "python3"
  },
  "language_info": {
   "codemirror_mode": {
    "name": "ipython",
    "version": 3
   },
   "file_extension": ".py",
   "mimetype": "text/x-python",
   "name": "python",
   "nbconvert_exporter": "python",
   "pygments_lexer": "ipython3",
   "version": "3.7.4"
  }
 },
 "nbformat": 4,
 "nbformat_minor": 4
}
